{
  "nbformat": 4,
  "nbformat_minor": 0,
  "metadata": {
    "colab": {
      "provenance": []
    },
    "kernelspec": {
      "name": "python3",
      "display_name": "Python 3"
    },
    "language_info": {
      "name": "python"
    }
  },
  "cells": [
    {
      "cell_type": "code",
      "source": [
        "!pip install mne\n",
        "!pip install numpy scipy matplotlib scikit-learn\n",
        "!pip install pactools\n",
        "!pip install mne_icalabel"
      ],
      "metadata": {
        "id": "-_z7ZabUtQuD"
      },
      "execution_count": null,
      "outputs": []
    },
    {
      "cell_type": "code",
      "execution_count": null,
      "metadata": {
        "id": "hiX7MVQNtHyD"
      },
      "outputs": [],
      "source": [
        "import mne\n",
        "import numpy as np\n",
        "import os.path as op\n",
        "import matplotlib.pyplot as plt\n",
        "\n",
        "from pactools import simulate_pac, raw_to_mask, Comodulogram, MaskIterator\n",
        "\n",
        "import mne_icalabel"
      ]
    },
    {
      "cell_type": "code",
      "source": [
        "raw = mne.io.read_raw_gdf('/content/drive/MyDrive/EEG Raw Data/participantID.gdf')\n",
        "events = mne.find_events(raw, stim_channel=\"STATUS\")\n",
        "events[:, 2] >>= 8\n",
        "raw2 = raw.set_montage('biosemi128')\n",
        "\n",
        "print(raw2.info)\n",
        "\n",
        "if events.size == 0:\n",
        "    print(\"The 'events' array is empty.\")\n",
        "\n",
        "tmin = events[0, 0]/raw2.info['sfreq']\n",
        "tmax = events[1, 0]/raw2.info['sfreq']\n",
        "\n",
        "raw2.crop(tmin=tmin, tmax=tmax)\n",
        "raw2.load_data()"
      ],
      "metadata": {
        "id": "Ug6er3SRuSmF"
      },
      "execution_count": null,
      "outputs": []
    },
    {
      "cell_type": "code",
      "source": [
        "eeg = raw2.filter(l_freq=1, h_freq=70)\n",
        "\n",
        "filtered = eeg.plot(duration=300, proj=False, n_channels=len(raw.ch_names))\n",
        "\n",
        "start_events = events[events[:, 2] == 18]\n",
        "end_events = events[events[:, 2] == 28]"
      ],
      "metadata": {
        "id": "85VuysWyz7Mr"
      },
      "execution_count": null,
      "outputs": []
    },
    {
      "cell_type": "code",
      "source": [
        "# check if start_events array is empty or not\n",
        "if len(start_events) > 0:\n",
        "    print(\"start_events contains elements.\")\n",
        "else:\n",
        "    print(\"start_events is empty.\")\n",
        "\n",
        "# Create new_events array with only one epoch\n",
        "if len(start_events) > 0:\n",
        "    epoch_start = start_events[0, 0]  # Start time of the first event\n",
        "    epoch_end = epoch_start + 300  # Duration of one epoch (3 seconds)\n",
        "    new_events = np.array([[epoch_start, 0, 18]])  # Add only one epoch to the array\n",
        "else:\n",
        "    new_events = np.array([])  # Empty array if start_events is empty\n",
        "\n",
        "print(new_events)"
      ],
      "metadata": {
        "id": "x61FObu40IRG"
      },
      "execution_count": null,
      "outputs": []
    },
    {
      "cell_type": "code",
      "source": [
        "epochs = mne.Epochs(eeg, new_events, event_id=None, tmin=0, tmax=300, baseline=None)\n",
        "epochs.load_data()\n",
        "epochs.resample(256)\n",
        "\n",
        "epochs.set_eeg_reference(ref_channels='average')"
      ],
      "metadata": {
        "id": "GjCs5Sm20NFU"
      },
      "execution_count": null,
      "outputs": []
    },
    {
      "cell_type": "code",
      "source": [
        "mu = 1\n",
        "sigma = 0.25\n",
        "tmin, tmax = mu - 3 * sigma, mu + 3 * sigma\n",
        "\n",
        "#set index for electrodes in left hemisphere\n",
        "c9_idx = raw.ch_names.index('C9')\n",
        "a10_idx = raw.ch_names.index('A10')\n",
        "ixs = (c9_idx, a10_idx)\n",
        "\n",
        "\n",
        "# create the input array for Comodulogram.fit\n",
        "low_sig, high_sig, mask = raw_to_mask(eeg, ixs=ixs, events=new_events, tmin=tmin,\n",
        "                                      tmax=tmax)"
      ],
      "metadata": {
        "id": "pd75ZcFDv5CB"
      },
      "execution_count": null,
      "outputs": []
    },
    {
      "cell_type": "code",
      "source": [
        "low_sig = eeg[ixs[0], :][0]\n",
        "high_sig = eeg[ixs[1], :][0]\n",
        "\n",
        "mask = MaskIterator(new_events, tmin, tmax, eeg.n_times, eeg.info['sfreq'])\n",
        "\n",
        "# create the instance of Comodulogram\n",
        "estimator = Comodulogram(fs=eeg.info['sfreq'],\n",
        "                         low_fq_range=np.linspace(1, 10, 100), low_fq_width=2.,\n",
        "                         method='duprelatour', progress_bar=True)\n",
        "# compute the comodulogram\n",
        "estimator.fit(low_sig, high_sig, mask)\n",
        "# plot the results\n",
        "fig = estimator.plot(tight_layout=False)\n",
        "plt.ylim(0, 100)\n",
        "plt.show()"
      ],
      "metadata": {
        "id": "VOjcwgv72u5-"
      },
      "execution_count": null,
      "outputs": []
    },
    {
      "cell_type": "code",
      "source": [
        "print(\"Comodulogram shape:\", estimator.comod_.shape)"
      ],
      "metadata": {
        "id": "Terv6xvujKoI"
      },
      "execution_count": null,
      "outputs": []
    },
    {
      "cell_type": "code",
      "source": [
        "# Extract the peak PAC metric from the comodulogram\n",
        "peak_index = np.argmax(estimator.comod_)\n",
        "peak_freq_index, peak_time_index = np.unravel_index(peak_index, estimator.comod_.shape[1:])\n",
        "peak_freq = estimator.low_fq_range[peak_freq_index]\n",
        "\n",
        "print(\"Peak PAC frequency:\", peak_freq)"
      ],
      "metadata": {
        "id": "3QReWOBZfrEj"
      },
      "execution_count": null,
      "outputs": []
    },
    {
      "cell_type": "code",
      "source": [
        "# Extract the PAC metric associated with the peak PAC frequency\n",
        "peak_pac_metric = estimator.comod_[0, peak_freq_index, peak_time_index]\n",
        "\n",
        "print(\"PAC metric at peak PAC frequency:\", peak_pac_metric)"
      ],
      "metadata": {
        "id": "KZhd4YWckPrB"
      },
      "execution_count": null,
      "outputs": []
    },
    {
      "cell_type": "code",
      "source": [
        "#set index for electrodes in right hemisphere\n",
        "c9_idx = raw.ch_names.index('C9')\n",
        "c11_idx = raw.ch_names.index('C11')\n",
        "ixs = (c9_idx, c11_idx)\n",
        "\n",
        "low_sig = eeg[ixs[0], :][0]\n",
        "high_sig = eeg[ixs[1], :][0]\n",
        "\n",
        "mask = MaskIterator(new_events, tmin, tmax, eeg.n_times, eeg.info['sfreq'])\n",
        "\n",
        "# create the instance of Comodulogram\n",
        "estimator = Comodulogram(fs=eeg.info['sfreq'],\n",
        "                         low_fq_range=np.linspace(1, 10, 100), low_fq_width=2,\n",
        "                         method='duprelatour', progress_bar=True)\n",
        "# compute the comodulogram\n",
        "estimator.fit(low_sig, high_sig, mask)\n",
        "# plot the results\n",
        "fig = estimator.plot(tight_layout=False)\n",
        "plt.ylim(0, 100)\n",
        "plt.show()"
      ],
      "metadata": {
        "id": "VjzZ_3OOSKem"
      },
      "execution_count": null,
      "outputs": []
    },
    {
      "cell_type": "code",
      "source": [
        "# Extract the peak PAC metric from the comodulogram\n",
        "peak_index = np.argmax(estimator.comod_)\n",
        "peak_freq_index, peak_time_index = np.unravel_index(peak_index, estimator.comod_.shape[1:])\n",
        "peak_freq = estimator.low_fq_range[peak_freq_index]\n",
        "\n",
        "print(\"Peak PAC frequency:\", peak_freq)"
      ],
      "metadata": {
        "id": "e0RHomMmna6-"
      },
      "execution_count": null,
      "outputs": []
    },
    {
      "cell_type": "code",
      "source": [
        "# Extract the PAC metric associated with the peak PAC frequency\n",
        "peak_pac_metric = estimator.comod_[0, peak_freq_index, peak_time_index]\n",
        "\n",
        "print(\"PAC metric at peak PAC frequency:\", peak_pac_metric)"
      ],
      "metadata": {
        "id": "WuBviniXneCa"
      },
      "execution_count": null,
      "outputs": []
    }
  ]
}